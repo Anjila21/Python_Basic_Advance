{
 "cells": [
  {
   "cell_type": "markdown",
   "id": "4d290c10",
   "metadata": {},
   "source": [
    "### Data:\n",
    "Data can be in the form of text, image,video, audio"
   ]
  },
  {
   "cell_type": "markdown",
   "id": "a3c09908",
   "metadata": {},
   "source": [
    "### Data Preprocessing\n",
    "Data Preprocessing is a process to convert raw data into meaningful data using different techniques."
   ]
  },
  {
   "cell_type": "markdown",
   "id": "07425246",
   "metadata": {},
   "source": [
    "### Why is Data Preprocessing Important?\n",
    "Data in the real world is dirty. ie, incomplete,noisy,inconsistent,duplicate"
   ]
  },
  {
   "cell_type": "markdown",
   "id": "d5da09c9",
   "metadata": {},
   "source": [
    "### Major steps in Data Preprocessing\n",
    "1. Data Cleaning\n",
    "2. Data Integration\n",
    "3. Data Reduction\n",
    "4. Data Transformation\n",
    "5. Data Discretization"
   ]
  },
  {
   "cell_type": "markdown",
   "id": "5ad3b45d",
   "metadata": {},
   "source": [
    "### Data Cleaning\n",
    "Data Cleaning means fill in missing values, smooth out noise while identifying outliers and correct inconsistencies in the data."
   ]
  },
  {
   "cell_type": "markdown",
   "id": "23d9f3d1",
   "metadata": {},
   "source": [
    "### Data Integration \n",
    "Data Intergration is a technique to merge data from mulitple sources into a coherent data store, such as a data warehouse."
   ]
  },
  {
   "cell_type": "markdown",
   "id": "a442c8d0",
   "metadata": {},
   "source": [
    "### Data Reduction\n",
    "Data Reduction is a technique use to reduce the data size by aggregating, eliminating redundant features, or clustering for instance."
   ]
  },
  {
   "cell_type": "markdown",
   "id": "c4176daf",
   "metadata": {},
   "source": [
    "### Data Transformation\n",
    "Data Transformation means data are transformed or consolidated into forms appropriate for ML model training, such as normalizatin, may be applied where data are scaled to fall within a smaller range like 0.0 to 1.0."
   ]
  },
  {
   "cell_type": "markdown",
   "id": "edfe4c54",
   "metadata": {},
   "source": [
    "### Data Discretization\n",
    "Data Discretization technique transforms numeric data by mapping values to interval or concept labels.\n"
   ]
  },
  {
   "cell_type": "markdown",
   "id": "49c48f95",
   "metadata": {},
   "source": [
    "### Feature Engineering\n",
    "Feature is an attribute or property shared by all of the independent units on which analysis or prediction is to be done.\n",
    "Feature Engineering is the process to create feature/extract the feature from existing features by domain knowledge to increase the performance of Machine Learning Model."
   ]
  },
  {
   "cell_type": "markdown",
   "id": "d4b9c2eb",
   "metadata": {},
   "source": [
    "### Variables \n",
    "A variable is any characteristic,number, or quantity that can be measured or counted.It is of two typw.\n",
    "1. Numerical   --- Discrete(eg; age ie, integer) ,continous(weight ; ie,float)\n",
    "2. Categorical --- Ordinal (eg:there is Order like in counting number) ,Nominal(eg:There is no order ie, red,yellow, pink)\n",
    "3. Data and Times"
   ]
  },
  {
   "cell_type": "code",
   "execution_count": null,
   "id": "c5e444ef",
   "metadata": {},
   "outputs": [],
   "source": []
  }
 ],
 "metadata": {
  "kernelspec": {
   "display_name": "Python 3 (ipykernel)",
   "language": "python",
   "name": "python3"
  },
  "language_info": {
   "codemirror_mode": {
    "name": "ipython",
    "version": 3
   },
   "file_extension": ".py",
   "mimetype": "text/x-python",
   "name": "python",
   "nbconvert_exporter": "python",
   "pygments_lexer": "ipython3",
   "version": "3.11.4"
  }
 },
 "nbformat": 4,
 "nbformat_minor": 5
}
