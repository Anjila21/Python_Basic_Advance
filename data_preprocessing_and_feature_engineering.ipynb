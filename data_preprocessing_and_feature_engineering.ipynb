{
 "cells": [
  {
   "cell_type": "markdown",
   "id": "703c6cb0",
   "metadata": {},
   "source": [
    "### Data:\n",
    "Data can be in the form of text, image,video, audio"
   ]
  },
  {
   "cell_type": "markdown",
   "id": "5f697ec1",
   "metadata": {},
   "source": [
    "### Data Preprocessing\n",
    "Data Preprocessing is a process to convert raw data into meaningful data using different techniques."
   ]
  },
  {
   "cell_type": "markdown",
   "id": "d10821eb",
   "metadata": {},
   "source": [
    "### Why is Data Preprocessing Important?\n",
    "Data in the real world is dirty. ie, incomplete,noisy,inconsistent,duplicate"
   ]
  },
  {
   "cell_type": "markdown",
   "id": "672d9626",
   "metadata": {},
   "source": [
    "### Major steps in Data Preprocessing\n",
    "1. Data Cleaning\n",
    "2. Data Integration\n",
    "3. Data Reduction\n",
    "4. Data Transformation\n",
    "5. Data Discretization"
   ]
  },
  {
   "cell_type": "markdown",
   "id": "4c43a55a",
   "metadata": {},
   "source": [
    "### Data Cleaning\n",
    "Data Cleaning means fill in missing values, smooth out noise while identifying outliers and correct inconsistencies in the data.\n",
    "Data Cleaning is the process of detecting incomplete, incorrect,inaacurate or irrelevent parts of the data and then replacing, modifying or deleting the dirty data."
   ]
  },
  {
   "cell_type": "markdown",
   "id": "19a2f39f",
   "metadata": {},
   "source": [
    "### Data Cleaning steps:\n",
    "1. Import datasets\n",
    "2. Merge datasets into one dataset\n",
    "3. Identify error\n",
    "4. Standardize processes\n",
    "5. Scrub for duplicates\n",
    "6. Validate accuracy"
   ]
  },
  {
   "cell_type": "markdown",
   "id": "79dd564b",
   "metadata": {},
   "source": [
    "### Data Integration \n",
    "Data Intergration is a technique to merge data from mulitple sources into a coherent data store, such as a data warehouse."
   ]
  },
  {
   "cell_type": "markdown",
   "id": "5081f73d",
   "metadata": {},
   "source": [
    "### Data Reduction\n",
    "Data Reduction is a technique use to reduce the data size by aggregating, eliminating redundant features, or clustering for instance."
   ]
  },
  {
   "cell_type": "markdown",
   "id": "6451d747",
   "metadata": {},
   "source": [
    "### Data Transformation\n",
    "Data Transformation means data are transformed or consolidated into forms appropriate for ML model training, such as normalizatin, may be applied where data are scaled to fall within a smaller range like 0.0 to 1.0."
   ]
  },
  {
   "cell_type": "markdown",
   "id": "716ad998",
   "metadata": {},
   "source": [
    "### Data Discretization\n",
    "Data Discretization technique transforms numeric data by mapping values to interval or concept labels.\n"
   ]
  },
  {
   "cell_type": "markdown",
   "id": "9ffd1646",
   "metadata": {},
   "source": [
    "### Feature Engineering\n",
    "Feature is an attribute or property shared by all of the independent units on which analysis or prediction is to be done.\n",
    "Feature Engineering is the process to create feature/extract the feature from existing features by domain knowledge to increase the performance of Machine Learning Model."
   ]
  },
  {
   "cell_type": "markdown",
   "id": "6ce5495f",
   "metadata": {},
   "source": [
    "### Variables \n",
    "A variable is any characteristic,number, or quantity that can be measured or counted.It is of two typw.\n",
    "1. Numerical   --- Discrete(eg; age ie, integer) ,continous(weight ; ie,float)\n",
    "2. Categorical --- Ordinal (eg:there is Order like in counting number) ,Nominal(eg:There is no order ie, red,yellow, pink)\n",
    "3. Data and Times"
   ]
  },
  {
   "cell_type": "markdown",
   "id": "2028fad3",
   "metadata": {},
   "source": [
    "### Numerical Variables\n",
    "A numerical varible is a variable where the measurement or number has a numerical meaning."
   ]
  },
  {
   "cell_type": "markdown",
   "id": "658b279a",
   "metadata": {},
   "source": [
    "### 1. Discerte Varible\n",
    "The values which can be counted as whole value(fixed) called a discrete variable."
   ]
  },
  {
   "cell_type": "markdown",
   "id": "d285851d",
   "metadata": {},
   "source": [
    "### 2. Continuous Variable\n",
    "The value contain range, measurements called as continuous variable. Floating value"
   ]
  },
  {
   "cell_type": "markdown",
   "id": "30fc7817",
   "metadata": {},
   "source": [
    "### Categorical Variable\n",
    "The value of a categorical variables are selected from a group of categories,also called labels. It is in string form."
   ]
  },
  {
   "cell_type": "markdown",
   "id": "11945b53",
   "metadata": {},
   "source": [
    "### 1. Ordinal Variable\n",
    "Ordinal Variables are categorical variable in which the categories can be meaningfully ordered."
   ]
  },
  {
   "cell_type": "markdown",
   "id": "674889cd",
   "metadata": {},
   "source": [
    "### 2. Nominal Variables\n",
    "Nominal Variable is same like ordinal variable but there is nothing that indicates an intrinsic order of the labels and in principle."
   ]
  },
  {
   "cell_type": "markdown",
   "id": "2fb5aa78",
   "metadata": {},
   "source": [
    "### Date and Time Variable\n",
    "DateTime Variable can contain date only , time only, or date and time."
   ]
  },
  {
   "cell_type": "markdown",
   "id": "ef44a21d",
   "metadata": {},
   "source": [
    "### Mixed Variables\n",
    "The variables which contains numbers and categories(label) called ad mixed variable."
   ]
  }
 ],
 "metadata": {
  "kernelspec": {
   "display_name": "Python 3 (ipykernel)",
   "language": "python",
   "name": "python3"
  },
  "language_info": {
   "codemirror_mode": {
    "name": "ipython",
    "version": 3
   },
   "file_extension": ".py",
   "mimetype": "text/x-python",
   "name": "python",
   "nbconvert_exporter": "python",
   "pygments_lexer": "ipython3",
   "version": "3.11.4"
  }
 },
 "nbformat": 4,
 "nbformat_minor": 5
}
