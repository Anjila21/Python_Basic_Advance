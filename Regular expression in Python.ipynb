{
 "cells": [
  {
   "cell_type": "markdown",
   "id": "7e9735e4",
   "metadata": {},
   "source": [
    "# The \"re\" module offers a set of function that allows us to search a string for a match."
   ]
  },
  {
   "cell_type": "markdown",
   "id": "dacc734b",
   "metadata": {},
   "source": [
    "# The main methods of \"re\" module are:\n",
    "# findall - Returns a list containing all matches\n",
    "# search- Returns a Match object if there is a match anywhere in the string"
   ]
  },
  {
   "cell_type": "code",
   "execution_count": 4,
   "id": "788e88ea",
   "metadata": {},
   "outputs": [
    {
     "name": "stdout",
     "output_type": "stream",
     "text": [
      "['78', '82']\n",
      "<re.Match object; span=(30, 32), match='78'>\n"
     ]
    }
   ],
   "source": [
    "import re\n",
    "pattern = r\"\\d{2}\" # two digit number\n",
    "text= \"The  score of the players was 78 runs for82 balls\"\n",
    "print(re.findall(pattern,text))\n",
    "print(re.search(pattern,text))"
   ]
  },
  {
   "cell_type": "code",
   "execution_count": 7,
   "id": "9352ff23",
   "metadata": {},
   "outputs": [
    {
     "name": "stdout",
     "output_type": "stream",
     "text": [
      "['7', '82', '8', '124', '5']\n"
     ]
    }
   ],
   "source": [
    "pattern = r\"\\d{1,3}\"\n",
    "text = \"The score of the player was 7 runs from 82 balls in 8 overs 1245\" # it will break four digit number \"1234\" into \"123\"and\n",
    "                                                      # \"1\" to give 3 and 1 digit.Inorder to ignore this problem we use boundary \"b\" in below program\n",
    "print(re.findall(pattern,text))"
   ]
  },
  {
   "cell_type": "code",
   "execution_count": 8,
   "id": "061b2f17",
   "metadata": {},
   "outputs": [
    {
     "name": "stdout",
     "output_type": "stream",
     "text": [
      "['7', '82', '8', '245']\n"
     ]
    }
   ],
   "source": [
    "pattern = r\"\\d{1,3}\\b\"  # Here \"b\" refers to boundary and doesnt beak 4 digit number into 3 and 1 ie; neglates 4 digit number\n",
    "text =  \"The score of the player was 7 runs from 82 balls in 8 overs 1245\"\n",
    "print(re.findall(pattern,text))"
   ]
  },
  {
   "cell_type": "code",
   "execution_count": 12,
   "id": "3f1024ce",
   "metadata": {},
   "outputs": [
    {
     "name": "stdout",
     "output_type": "stream",
     "text": [
      "['T', 'h', 'e', 's', 'c', 'o', 'r', 'e', 'o', 'f', 't', 'h', 'e', 'p', 'l', 'a', 'y', 'e', 'r', 'w', 'a', 's', '7', 'r', 'u', 'n', 's', 'f', 'r', 'o', 'm', '8', '2', 'b', 'a', 'l', 'l', 's', 'i', 'n', '8', 'o', 'v', 'e', 'r', 's', '1', '2', '4', '5']\n"
     ]
    }
   ],
   "source": [
    "pattern = r\"\\S\" #it prints all the character\n",
    "text=\"The score of the player was 7 runs from 82 balls in 8 overs 1245\"\n",
    "print(re.findall(pattern,text))"
   ]
  },
  {
   "cell_type": "code",
   "execution_count": 14,
   "id": "98a46aaa",
   "metadata": {},
   "outputs": [
    {
     "name": "stdout",
     "output_type": "stream",
     "text": [
      "[' ', ' ', ' ', ' ', ' ', ' ', ' ', ' ', ' ', ' ', ' ', ' ', ' ', ' ']\n"
     ]
    }
   ],
   "source": [
    "pattern = r\"\\W\" #It prints all the whitespaces\n",
    "text= \"The score of the player was 7 runs from 82 balls in 8 overs 1245\"\n",
    "print(re.findall(pattern,text))"
   ]
  },
  {
   "cell_type": "code",
   "execution_count": 18,
   "id": "32981e16",
   "metadata": {},
   "outputs": [
    {
     "name": "stdout",
     "output_type": "stream",
     "text": [
      "['h', 'e', 's', 'c', 'o', 'r', 'e', 'o', 'f', 't', 'h', 'e', 'p', 'l', 'a', 'y', 'e', 'r', 'w', 'a', 's', '7', 'r', 'u', 'n', 's', 'f', 'r', 'o', 'm', '8', '2', 'b', 'a', 'l', 'l', 's', 'i', 'n', '8', 'o', 'v', 'e', 'r', 's', '1', '2', '4', '5']\n"
     ]
    }
   ],
   "source": [
    "pattern = r\"[a-z]|[0-9]\" # prints all the character or digits if any\n",
    "text =  \"The score of the player was 7 runs from 82 balls in 8 overs 1245\"\n",
    "print(re.findall(pattern,text))"
   ]
  },
  {
   "cell_type": "code",
   "execution_count": null,
   "id": "1a464dd0",
   "metadata": {},
   "outputs": [],
   "source": []
  }
 ],
 "metadata": {
  "kernelspec": {
   "display_name": "Python 3 (ipykernel)",
   "language": "python",
   "name": "python3"
  },
  "language_info": {
   "codemirror_mode": {
    "name": "ipython",
    "version": 3
   },
   "file_extension": ".py",
   "mimetype": "text/x-python",
   "name": "python",
   "nbconvert_exporter": "python",
   "pygments_lexer": "ipython3",
   "version": "3.11.4"
  }
 },
 "nbformat": 4,
 "nbformat_minor": 5
}
