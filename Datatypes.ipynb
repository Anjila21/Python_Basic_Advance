{
 "cells": [
  {
   "cell_type": "markdown",
   "id": "7ad0a96f",
   "metadata": {},
   "source": [
    "# Data Type\n",
    "There are three types of data types in python. They are:\n",
    "1. Numeric\n",
    "2. Sequence Type\n",
    "3. Boolean"
   ]
  },
  {
   "cell_type": "markdown",
   "id": "d98482b6",
   "metadata": {},
   "source": [
    "# 1. Numeric Data Type\n",
    "There are three type of numeric datatype.\n",
    "They are\n",
    "1. integer\n",
    "2. float\n",
    "3. complex type"
   ]
  },
  {
   "cell_type": "markdown",
   "id": "a234eb05",
   "metadata": {},
   "source": [
    "# Integer\n"
   ]
  },
  {
   "cell_type": "code",
   "execution_count": 1,
   "id": "06284613",
   "metadata": {},
   "outputs": [
    {
     "name": "stdout",
     "output_type": "stream",
     "text": [
      "10\n"
     ]
    }
   ],
   "source": [
    "a = 10\n",
    "print(a)"
   ]
  },
  {
   "cell_type": "code",
   "execution_count": 2,
   "id": "4afd2e8a",
   "metadata": {},
   "outputs": [
    {
     "data": {
      "text/plain": [
       "int"
      ]
     },
     "execution_count": 2,
     "metadata": {},
     "output_type": "execute_result"
    }
   ],
   "source": [
    "type(a)"
   ]
  },
  {
   "cell_type": "markdown",
   "id": "afcf1168",
   "metadata": {},
   "source": [
    "# Float"
   ]
  },
  {
   "cell_type": "code",
   "execution_count": 3,
   "id": "00bc9d23",
   "metadata": {},
   "outputs": [
    {
     "name": "stdout",
     "output_type": "stream",
     "text": [
      "1.112\n"
     ]
    },
    {
     "data": {
      "text/plain": [
       "float"
      ]
     },
     "execution_count": 3,
     "metadata": {},
     "output_type": "execute_result"
    }
   ],
   "source": [
    "a = 1.112\n",
    "print(a)\n",
    "type(a)"
   ]
  },
  {
   "cell_type": "markdown",
   "id": "70397dde",
   "metadata": {},
   "source": [
    "# Complex Type"
   ]
  },
  {
   "cell_type": "code",
   "execution_count": 4,
   "id": "503ae312",
   "metadata": {},
   "outputs": [
    {
     "data": {
      "text/plain": [
       "complex"
      ]
     },
     "execution_count": 4,
     "metadata": {},
     "output_type": "execute_result"
    }
   ],
   "source": [
    "a = 2+3j\n",
    "type(a)"
   ]
  },
  {
   "cell_type": "markdown",
   "id": "2ee37fcb",
   "metadata": {},
   "source": [
    "# 2. Boolean Data Type"
   ]
  },
  {
   "cell_type": "code",
   "execution_count": 5,
   "id": "efd38a26",
   "metadata": {},
   "outputs": [
    {
     "data": {
      "text/plain": [
       "bool"
      ]
     },
     "execution_count": 5,
     "metadata": {},
     "output_type": "execute_result"
    }
   ],
   "source": [
    "boolean = True\n",
    "type(boolean)"
   ]
  },
  {
   "cell_type": "markdown",
   "id": "b1eb6fff",
   "metadata": {},
   "source": [
    "# 3. Sequence Data Type\n",
    "\n",
    "It is of 5 type\n",
    "1. List\n",
    "2. Tuple\n",
    "3. Set\n",
    "4. Dictionary\n",
    "5. String"
   ]
  },
  {
   "cell_type": "markdown",
   "id": "9e72eb33",
   "metadata": {},
   "source": [
    "# List is the collection of one or more data items - not neccessarily same type. It is mutable ie, object can be changed after it is created.\n"
   ]
  },
  {
   "cell_type": "code",
   "execution_count": 6,
   "id": "e95a3640",
   "metadata": {},
   "outputs": [
    {
     "name": "stdout",
     "output_type": "stream",
     "text": [
      "[1, 3, 4, 5]\n",
      "[10, 11, 12, 13, 14]\n"
     ]
    },
    {
     "data": {
      "text/plain": [
       "list"
      ]
     },
     "execution_count": 6,
     "metadata": {},
     "output_type": "execute_result"
    }
   ],
   "source": [
    "lists = [1,3,4,5]\n",
    "print(lists)\n",
    "lists1 = list((10,11,12,13,14))\n",
    "print(lists1)\n",
    "type(lists)\n",
    "type(lists1)"
   ]
  },
  {
   "cell_type": "code",
   "execution_count": 7,
   "id": "30e8892c",
   "metadata": {},
   "outputs": [
    {
     "name": "stdout",
     "output_type": "stream",
     "text": [
      "[1, 12, 4, 5]\n"
     ]
    }
   ],
   "source": [
    "lists[1]=12\n",
    "print(lists)"
   ]
  },
  {
   "cell_type": "code",
   "execution_count": 8,
   "id": "dafd9dc1",
   "metadata": {},
   "outputs": [
    {
     "data": {
      "text/plain": [
       "[1, 12, 4, 5, 64]"
      ]
     },
     "execution_count": 8,
     "metadata": {},
     "output_type": "execute_result"
    }
   ],
   "source": [
    "lists.append(64)\n",
    "lists"
   ]
  },
  {
   "cell_type": "code",
   "execution_count": 9,
   "id": "ef4bfd37",
   "metadata": {},
   "outputs": [
    {
     "data": {
      "text/plain": [
       "[10, 11, 12, 13, 'Anjila Tripathi']"
      ]
     },
     "execution_count": 9,
     "metadata": {},
     "output_type": "execute_result"
    }
   ],
   "source": [
    "#changing element in list \n",
    "lists1[4]=\"Anjila Tripathi\"\n",
    "lists1"
   ]
  },
  {
   "cell_type": "markdown",
   "id": "49fc9f95",
   "metadata": {},
   "source": [
    "# Tuple: It is the collection of one or more data items- not neccessarily same type. It is immutable ie, object cannot be changed after it is created."
   ]
  },
  {
   "cell_type": "code",
   "execution_count": 10,
   "id": "fffe9cad",
   "metadata": {},
   "outputs": [
    {
     "name": "stdout",
     "output_type": "stream",
     "text": [
      "(1, 2, 3, 4)\n"
     ]
    },
    {
     "data": {
      "text/plain": [
       "4"
      ]
     },
     "execution_count": 10,
     "metadata": {},
     "output_type": "execute_result"
    }
   ],
   "source": [
    "mytuple=(1,2,3,4)\n",
    "print(mytuple)\n",
    "mytuple[3]"
   ]
  },
  {
   "cell_type": "code",
   "execution_count": 11,
   "id": "b0b865d8",
   "metadata": {},
   "outputs": [
    {
     "ename": "TypeError",
     "evalue": "'tuple' object does not support item assignment",
     "output_type": "error",
     "traceback": [
      "\u001b[1;31m---------------------------------------------------------------------------\u001b[0m",
      "\u001b[1;31mTypeError\u001b[0m                                 Traceback (most recent call last)",
      "Cell \u001b[1;32mIn[11], line 2\u001b[0m\n\u001b[0;32m      1\u001b[0m \u001b[38;5;28mtype\u001b[39m(mytuple)\n\u001b[1;32m----> 2\u001b[0m mytuple[\u001b[38;5;241m2\u001b[39m]\u001b[38;5;241m=\u001b[39m\u001b[38;5;124m\"\u001b[39m\u001b[38;5;124mAnjiiii\u001b[39m\u001b[38;5;124m\"\u001b[39m\n",
      "\u001b[1;31mTypeError\u001b[0m: 'tuple' object does not support item assignment"
     ]
    }
   ],
   "source": [
    "type(mytuple)\n",
    "mytuple[2]=\"Anjiiii\"  #Error: This is immutable as it doesnot allow\n",
    "#changing of object once it is created"
   ]
  },
  {
   "cell_type": "markdown",
   "id": "edcfc552",
   "metadata": {},
   "source": [
    "# Set: It is the unordered collection of unique items. As it is unordered collection it doesnt consists of index."
   ]
  },
  {
   "cell_type": "code",
   "execution_count": null,
   "id": "111516b1",
   "metadata": {},
   "outputs": [],
   "source": [
    "set11 = {1,2,3,4}\n",
    "set11"
   ]
  },
  {
   "cell_type": "code",
   "execution_count": null,
   "id": "0a1ed358",
   "metadata": {},
   "outputs": [],
   "source": [
    "set11[0] #Error: As it is unordered collection it doesnt consists of index."
   ]
  },
  {
   "cell_type": "markdown",
   "id": "3a6c78ee",
   "metadata": {},
   "source": [
    "# Dictionary : It is the unordered collection of key-value pair"
   ]
  },
  {
   "cell_type": "code",
   "execution_count": null,
   "id": "f0863e36",
   "metadata": {},
   "outputs": [],
   "source": [
    "mydict = {'myname':\"Anjila\", \"lastname\":\"Tripathi\"}\n",
    "mydict"
   ]
  },
  {
   "cell_type": "code",
   "execution_count": null,
   "id": "29d5cec7",
   "metadata": {},
   "outputs": [],
   "source": [
    "mydict['myname']"
   ]
  },
  {
   "cell_type": "code",
   "execution_count": null,
   "id": "3a139d97",
   "metadata": {},
   "outputs": [],
   "source": [
    "mydict={\"myname\":\"Anjila\",\"lastname\":\"Tripathi\",\"myname\":\"Manjila\"}\n",
    "mydict  #having same key overrides the value"
   ]
  },
  {
   "cell_type": "code",
   "execution_count": null,
   "id": "43546317",
   "metadata": {},
   "outputs": [],
   "source": []
  }
 ],
 "metadata": {
  "kernelspec": {
   "display_name": "Python 3 (ipykernel)",
   "language": "python",
   "name": "python3"
  },
  "language_info": {
   "codemirror_mode": {
    "name": "ipython",
    "version": 3
   },
   "file_extension": ".py",
   "mimetype": "text/x-python",
   "name": "python",
   "nbconvert_exporter": "python",
   "pygments_lexer": "ipython3",
   "version": "3.11.4"
  }
 },
 "nbformat": 4,
 "nbformat_minor": 5
}
