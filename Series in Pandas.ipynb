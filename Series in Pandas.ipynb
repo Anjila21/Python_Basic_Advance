{
 "cells": [
  {
   "cell_type": "code",
   "execution_count": 8,
   "id": "3a4a7631",
   "metadata": {},
   "outputs": [],
   "source": [
    "#importing pandas and libraries\n",
    "import pandas as pd"
   ]
  },
  {
   "cell_type": "code",
   "execution_count": 9,
   "id": "bba2b751",
   "metadata": {},
   "outputs": [
    {
     "data": {
      "text/plain": [
       "'1.5.3'"
      ]
     },
     "execution_count": 9,
     "metadata": {},
     "output_type": "execute_result"
    }
   ],
   "source": [
    "# To check the version of pandas\n",
    "pd.__version__"
   ]
  },
  {
   "cell_type": "code",
   "execution_count": 10,
   "id": "6ba21da2",
   "metadata": {},
   "outputs": [
    {
     "name": "stdout",
     "output_type": "stream",
     "text": [
      "[1, 2, 3, -4, 'anjila']\n"
     ]
    }
   ],
   "source": [
    "# To create list\n",
    "lists = [1,2,3,-4,\"anjila\"]\n",
    "print(lists)"
   ]
  },
  {
   "cell_type": "code",
   "execution_count": 11,
   "id": "1cd3b1ea",
   "metadata": {},
   "outputs": [
    {
     "data": {
      "text/plain": [
       "0         1\n",
       "1         2\n",
       "2         3\n",
       "3        -4\n",
       "4    anjila\n",
       "dtype: object"
      ]
     },
     "execution_count": 11,
     "metadata": {},
     "output_type": "execute_result"
    }
   ],
   "source": [
    "#To create Series data structure\n",
    "series = pd.Series(lists)\n",
    "series"
   ]
  },
  {
   "cell_type": "code",
   "execution_count": 12,
   "id": "21233de8",
   "metadata": {},
   "outputs": [
    {
     "data": {
      "text/plain": [
       "pandas.core.series.Series"
      ]
     },
     "execution_count": 12,
     "metadata": {},
     "output_type": "execute_result"
    }
   ],
   "source": [
    "# To check type of the series\n",
    "type(series)"
   ]
  },
  {
   "cell_type": "code",
   "execution_count": 14,
   "id": "26623cd4",
   "metadata": {},
   "outputs": [
    {
     "data": {
      "text/plain": [
       "0         1\n",
       "1         2\n",
       "2         3\n",
       "3         4\n",
       "4         5\n",
       "5    anjila\n",
       "6     angel\n",
       "dtype: object"
      ]
     },
     "execution_count": 14,
     "metadata": {},
     "output_type": "execute_result"
    }
   ],
   "source": [
    "series2 = pd.Series([1,2,3,4,5,\"anjila\",\"angel\"])\n",
    "series2"
   ]
  },
  {
   "cell_type": "code",
   "execution_count": 19,
   "id": "12a28bdd",
   "metadata": {},
   "outputs": [
    {
     "name": "stderr",
     "output_type": "stream",
     "text": [
      "C:\\Users\\Dell\\AppData\\Local\\Temp\\ipykernel_2348\\1415433682.py:2: FutureWarning: The default dtype for empty Series will be 'object' instead of 'float64' in a future version. Specify a dtype explicitly to silence this warning.\n",
      "  emptys = pd.Series([])\n"
     ]
    },
    {
     "data": {
      "text/plain": [
       "Series([], dtype: float64)"
      ]
     },
     "execution_count": 19,
     "metadata": {},
     "output_type": "execute_result"
    }
   ],
   "source": [
    "# To create empty series\n",
    "emptys = pd.Series([])\n",
    "emptys"
   ]
  },
  {
   "cell_type": "code",
   "execution_count": 20,
   "id": "064a75da",
   "metadata": {},
   "outputs": [
    {
     "data": {
      "text/plain": [
       "a    1\n",
       "b    2\n",
       "c    3\n",
       "d    4\n",
       "e    5\n",
       "dtype: int64"
      ]
     },
     "execution_count": 20,
     "metadata": {},
     "output_type": "execute_result"
    }
   ],
   "source": [
    "# giving index as char\n",
    "\n",
    "series3 = pd.Series([1,2,3,4,5], index=['a','b','c','d','e'])\n",
    "series3"
   ]
  },
  {
   "cell_type": "code",
   "execution_count": 21,
   "id": "0de14225",
   "metadata": {},
   "outputs": [
    {
     "data": {
      "text/plain": [
       "a    1.0\n",
       "b    2.0\n",
       "c    3.0\n",
       "d    4.0\n",
       "e    5.0\n",
       "dtype: float64"
      ]
     },
     "execution_count": 21,
     "metadata": {},
     "output_type": "execute_result"
    }
   ],
   "source": [
    "# changing data type\n",
    "\n",
    "series4 = pd.Series([1,2,3,4,5], index=['a','b','c','d','e'], dtype= float)\n",
    "series4"
   ]
  },
  {
   "cell_type": "code",
   "execution_count": 23,
   "id": "6d4a6cda",
   "metadata": {},
   "outputs": [
    {
     "data": {
      "text/plain": [
       "1    0.5\n",
       "2    0.5\n",
       "3    0.5\n",
       "4    0.5\n",
       "5    0.5\n",
       "dtype: float64"
      ]
     },
     "execution_count": 23,
     "metadata": {},
     "output_type": "execute_result"
    }
   ],
   "source": [
    "# To create scalar value\n",
    "\n",
    "scalar = pd.Series(0.5, index=[1,2,3,4,5])\n",
    "scalar"
   ]
  },
  {
   "cell_type": "code",
   "execution_count": 28,
   "id": "6ac596c2",
   "metadata": {},
   "outputs": [
    {
     "data": {
      "text/plain": [
       "anjila     1\n",
       "manjila    2\n",
       "manjil     3\n",
       "dtype: int64"
      ]
     },
     "execution_count": 28,
     "metadata": {},
     "output_type": "execute_result"
    }
   ],
   "source": [
    "#To creat dictonary data\n",
    "dic = pd.Series ({'anjila':1,'manjila':2,'manjil':3})\n",
    "dic"
   ]
  },
  {
   "cell_type": "code",
   "execution_count": 29,
   "id": "f2fe6c94",
   "metadata": {},
   "outputs": [
    {
     "data": {
      "text/plain": [
       "d    4.0\n",
       "dtype: float64"
      ]
     },
     "execution_count": 29,
     "metadata": {},
     "output_type": "execute_result"
    }
   ],
   "source": [
    "# To slice the series\n",
    "\n",
    "series4[3:4]"
   ]
  },
  {
   "cell_type": "code",
   "execution_count": 32,
   "id": "50f04edb",
   "metadata": {},
   "outputs": [
    {
     "data": {
      "text/plain": [
       "0    3.0\n",
       "1    6.0\n",
       "2    8.0\n",
       "3    NaN\n",
       "4    NaN\n",
       "dtype: float64"
      ]
     },
     "execution_count": 32,
     "metadata": {},
     "output_type": "execute_result"
    }
   ],
   "source": [
    "s1 = pd.Series([1,2,3,4,5])\n",
    "s2= pd.Series([2,4,5])\n",
    "s1+s2"
   ]
  }
 ],
 "metadata": {
  "kernelspec": {
   "display_name": "Python 3 (ipykernel)",
   "language": "python",
   "name": "python3"
  },
  "language_info": {
   "codemirror_mode": {
    "name": "ipython",
    "version": 3
   },
   "file_extension": ".py",
   "mimetype": "text/x-python",
   "name": "python",
   "nbconvert_exporter": "python",
   "pygments_lexer": "ipython3",
   "version": "3.11.4"
  }
 },
 "nbformat": 4,
 "nbformat_minor": 5
}
